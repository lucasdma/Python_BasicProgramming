{
  "nbformat": 4,
  "nbformat_minor": 0,
  "metadata": {
    "colab": {
      "name": "ProjAvaliacaoPCD_v2.ipynb",
      "provenance": [],
      "collapsed_sections": []
    },
    "kernelspec": {
      "name": "python3",
      "display_name": "Python 3"
    },
    "language_info": {
      "name": "python"
    }
  },
  "cells": [
    {
      "cell_type": "markdown",
      "metadata": {
        "id": "x2FyqpSxVmkA"
      },
      "source": [
        "#**Projeto Avaliação da Disciplina Programação em Python**\n",
        "\n",
        "###**Aluno: Lucas de Medeiros Amorim**\n",
        "\n",
        "**Descrição do Projeto:**\n",
        "\n",
        "O projeto consiste em construir um programa utilizando a linguagem Python. O programa seria uma\n",
        "espécie de controle sobre empréstimos e pagamentos entre as pessoas cadastradas.\n",
        "Suponha que você fará uma longa viagem em grupo ou mora com os amigos e,\n",
        "normalmente, haja o hábito de um emprestar dinheiro um ao outro, ou mesmo realizar um pagamento para o amigo por qualquer motivo que seja. Dessa forma, ter um controle sobre os empréstimos e pagamentos é interessante, de modo que nenhum fique no prejuízo.\n",
        "\n",
        "O programa então, terá as seguintes funcionalidades:\n",
        "1. Cadastro de até quatro pessoas no máximo;\n",
        "2. Salvar todos os registros das transações em um arquivo csv;\n",
        "3. Retornar o extrato do usuário;\n",
        "4. Retornar o extrato de todos os empréstimos do usuário;\n",
        "5. Retornar o extrato de todos os pagamentos do usuário;\n",
        "6. Retornar o balanço geral do usuário."
      ]
    },
    {
      "cell_type": "markdown",
      "metadata": {
        "id": "14ypPeFzd1pc"
      },
      "source": [
        "###**O QUE FOI UTILIZADO NESSE PROJETO QUE APRENDEMOS NO CURSO?**\n",
        "- Utilização da linguagem Python;\n",
        "- Estruturas de repetição (for e while);\n",
        "- Condicional if e elif;\n",
        "- Dicionários;\n",
        "- Manipulação de Dados utilizando Pandas e Numpy;\n",
        "- Elaboração de funções;\n",
        "- Uso do try...except;\n",
        "- Criar arquivos externos e adicionar conteúdo no mesmo."
      ]
    },
    {
      "cell_type": "markdown",
      "metadata": {
        "id": "7OP1oUb5dou_"
      },
      "source": [
        "###**1. Importar as bibliotecas que serão utilizadas no projeto**\n",
        "\n",
        "\n"
      ]
    },
    {
      "cell_type": "code",
      "metadata": {
        "id": "u407ThqlfB5R"
      },
      "source": [
        "import csv\n",
        "import pandas as pd\n",
        "from datetime import date\n",
        "import numpy as np"
      ],
      "execution_count": null,
      "outputs": []
    },
    {
      "cell_type": "markdown",
      "metadata": {
        "id": "MB-SLMb-C1EF"
      },
      "source": [
        "###**2. Criando o arquivo .csv de armazenamento dos dados do usuário**\n",
        "\n",
        "Será criado um arquivo externo .csv para armazenar os registros dos usuário. Nesse primeiro momento o arquivo estará vazio (sem registros), apenas com a primeira linha escrita que representa o cabeçalho ou o nome das colunas."
      ]
    },
    {
      "cell_type": "code",
      "metadata": {
        "id": "9bOpethCqIBH"
      },
      "source": [
        "#Criando o arquivo externo .csv onde serão armazenados os registros dos usuários\n",
        "registro_user_csv = open('registro_user_1.csv', 'x')\n",
        "csv_writer_user = csv.writer(registro_user_csv)\n",
        "csv_writer_user.writerow(['cpf', 'nome'])\n",
        "registro_user_csv.close()"
      ],
      "execution_count": null,
      "outputs": []
    },
    {
      "cell_type": "markdown",
      "metadata": {
        "id": "wNzqPhbgDLOo"
      },
      "source": [
        "###**3. Registro de cadastro dos usuários**\n",
        "3.1. Num primeiro momento, deve-se inserir o número de usuários que serão cadastrados no programa, sendo no mínimo dois participantes e no máximo quatro;\n",
        "\n",
        "3.2. Em seguida, foi criado um dicionário com as chaves 'cpf' e 'nome', nos quais possuem listas vazias como valores, onde serão armazenados os dados (CPF e nome) dos usuários, posteriormente;\n",
        "\n",
        "3.3. Além de armazenar os dados no dicionário, os dados serão registrados no arquivo externo (registro_user_1.csv), criado na etapa 2;\n",
        "\n",
        "3.4. Ao final do código dessa célula, utilizei o pandas para transformar o dicionário num objeto DataFrame;\n",
        "\n",
        "3.5. Como forma de demonstrar uma outra maneira de criar um arquivo externo .csv, utilizei o pandas para criar o arquivo registro_user_2.csv, que possui o mesmo conteúdo do registro_user_1.csv."
      ]
    },
    {
      "cell_type": "code",
      "metadata": {
        "id": "amd390TyVmFV",
        "colab": {
          "base_uri": "https://localhost:8080/"
        },
        "outputId": "79b604bf-ca27-4472-9e16-68a2e4bb663d"
      },
      "source": [
        "print(\"=\"*8 + \"Sejam Bem Vindos ao 2V MTracking!!!\" + \"=\"*8)\n",
        "\n",
        "num_users = 0\n",
        "\n",
        "# Usuário informar o número de participantes\n",
        "#validação de input para número de usuários a serem cadastrados\n",
        "while ((num_users < 2) | (num_users > 4)):\n",
        "  try:\n",
        "    num_users = int(input(\"\\nDigite o número de usuários a serem cadastrados (no máximo 4 usuários): \"))\n",
        "    if ((num_users < 2) | (num_users > 4)):\n",
        "      print('ATENÇÃO: Você só pode inserir de 2 a 4 usuários.')\n",
        "  except:\n",
        "    print(\"ATENÇÃO: Você deve inserir o número de usuários (números inteiros) de 2 a 4\")\n",
        "\n",
        "#dicionário criado para armazenar os dados dos usuários\n",
        "cadastro = {'cpf':[],\n",
        "            'nome':[]}\n",
        "\n",
        "print(\"=\"*8 + \"CADASTRO DE USUÁRIOS\" + \"=\"*8)\n",
        "print(\"\\nCadastre os usuários do 2V MTracking\")\n",
        "for c in range(num_users):\n",
        "  registro_user_csv = open('registro_user_1.csv', 'a')\n",
        "  csv_writer_user = csv.writer(registro_user_csv)\n",
        "  id_usuario = input('\\nDigite o CPF do usuário: ')\n",
        "#---------------------------------------------------------\n",
        "#validação de input para o cpf do usuário\n",
        "  while id_usuario.isnumeric() == False:\n",
        "    print('ATENÇÃO. Digite apenas os números do CPF.')\n",
        "    id_usuario = input('\\nDigite o CPF do usuário: ')\n",
        "  if id_usuario.isnumeric() == True:\n",
        "    cadastro['cpf'].append(id_usuario)\n",
        "#---------------------------------------------------------    \n",
        "  nome = input('\\nDigite o nome do usuário: ')\n",
        "#validação para o nome do usuário. Não permite que números sejam escritos\n",
        "  while any(chr.isnumeric() for chr in nome) == True:\n",
        "    print('ATENÇÃO. O nome do usuário deve conter apenas caracteres.')\n",
        "    nome = input('\\nDigite o nome do usuário: ')\n",
        "  if any(chr.isnumeric() for chr in nome) == False:\n",
        "    cadastro['nome'].append(nome)\n",
        "\n",
        "#escreve os registros no arquivo externo .csv\n",
        "  csv_writer_user.writerow([id_usuario, nome])\n",
        "  c += 1\n",
        "#fecha o arquivo externo .csv\n",
        "registro_user_csv.close()\n",
        "\n",
        "#cria um objeto dataframe a partir do dicionário cadastro\n",
        "df_cadastro = pd.DataFrame(cadastro)\n",
        "#cria um arquivo externo .csv com os registros do dataframe\n",
        "df_cadastro.to_csv('registro_user_2.csv')"
      ],
      "execution_count": null,
      "outputs": [
        {
          "output_type": "stream",
          "text": [
            "========Sejam Bem Vindos ao 2V MTracking!!!========\n",
            "\n",
            "Digite o número de usuários a serem cadastrados (no máximo 4 usuários): 5\n",
            "ATENÇÃO: Você só pode inserir de 2 a 4 usuários.\n",
            "\n",
            "Digite o número de usuários a serem cadastrados (no máximo 4 usuários): 1\n",
            "ATENÇÃO: Você só pode inserir de 2 a 4 usuários.\n",
            "\n",
            "Digite o número de usuários a serem cadastrados (no máximo 4 usuários): 2\n",
            "========CADASTRO DE USUÁRIOS========\n",
            "\n",
            "Cadastre os usuários do 2V MTracking\n",
            "\n",
            "Digite o CPF do usuário: 111\n",
            "\n",
            "Digite o nome do usuário: lucas\n",
            "\n",
            "Digite o CPF do usuário: 222\n",
            "\n",
            "Digite o nome do usuário: luis\n"
          ],
          "name": "stdout"
        }
      ]
    },
    {
      "cell_type": "markdown",
      "metadata": {
        "id": "TLl1qofyYpcy"
      },
      "source": [
        "###**4. Definindo funções que serão utilizadas nos próximos passos**\n",
        "FUNÇÕES:\n",
        "- Exibir o extrato individual do usuário em uso e o RESUMO do mesmo;\n",
        "- Exibir o extrato individual de empréstimo do usuário em uso e o RESUMO do mesmo;\n",
        "- Exibir o extrato individual de pagamento do usuário em uso e o RESUMO do mesmo;\n",
        "- Exibir o balanço geral do usuário em uso;\n",
        "- Exibir o Menu Principal.\n",
        "\n",
        "\n",
        "\n"
      ]
    },
    {
      "cell_type": "code",
      "metadata": {
        "id": "lPVaU4Zjypks"
      },
      "source": [
        "#Funções para visualização de extratos, balanço e menu principal\n",
        "\n",
        "def extrato_individual(nome):\n",
        "  extrato_ind = df_registro_trans[(df_registro_trans['nome_de'] == nome) | (df_registro_trans['nome_para'] == nome)]\n",
        "  return print('\\n','-'*18,f'EXTRATO DE {nome.upper()}','-'*18,'\\n'), print(extrato_ind) \n",
        "\n",
        "def extrato_individual_res(nome):\n",
        "  extrato_ind = df_registro_trans[(df_registro_trans['nome_de'] == nome) | (df_registro_trans['nome_para'] == nome)]\n",
        "  return print('\\n\\n','-'*4,f'EXTRATO DE {nome.upper()} (RESUMO)','-'*4,'\\n'), print(extrato_ind.groupby(['status','nome_de', 'nome_para'])['valor_reais'].sum())\n",
        "\n",
        "def extrato_individual_emp(nome):\n",
        "  extrato_ind_emp = df_registro_trans[(df_registro_trans['status'] == 'e') & ((df_registro_trans['nome_para'] == nome) | \n",
        "                                                                              (df_registro_trans['nome_de'] == nome))]\n",
        "  return print('\\n','-'*11,f'EXTRATO DE EMPRÉSTIMO DE {nome.upper()}','-'*11,'\\n'), print(extrato_ind_emp)\n",
        "\n",
        "def extrato_individual_emp_res(nome):\n",
        "  extrato_ind_emp = df_registro_trans[(df_registro_trans['status'] == 'e') & ((df_registro_trans['nome_para'] == nome) | \n",
        "                                                                              (df_registro_trans['nome_de'] == nome))]\n",
        "  return print('\\n\\n','-',f'EXTRATO DE EMPRÉSTIMO DE {nome.upper()} (RESUMO)','-','\\n'), print(extrato_ind_emp.groupby(['status','nome_de', 'nome_para'])['valor_reais'].sum())\n",
        "\n",
        "def extrato_individual_pag(nome):\n",
        "  extrato_ind_pag = df_registro_trans[(df_registro_trans['status'] == 'p') & ((df_registro_trans['nome_de'] == nome) |\n",
        "                                                                              (df_registro_trans['nome_para'] == nome))]\n",
        "  return print('\\n','-'*11,f'EXTRATO DE PAGAMENTO DE {nome.upper()}','-'*11,'\\n'), print(extrato_ind_pag)\n",
        "\n",
        "def extrato_individual_pag_res(nome):\n",
        "  extrato_ind_pag = df_registro_trans[(df_registro_trans['status'] == 'p') & ((df_registro_trans['nome_de'] == nome) |\n",
        "                                                                              (df_registro_trans['nome_para'] == nome))]\n",
        "  return print('\\n\\n','-',f'EXTRATO DE PAGAMENTO DE {nome.upper()} (RESUMO)','-','\\n'), print(extrato_ind_pag.groupby(['status','nome_de', 'nome_para'])['valor_reais'].sum())\n",
        "\n",
        "#para exibir o balanço dos usuários foram criados dois novos dataframes. O primeiro...\n",
        "#...possui apenas registros de crédito e o segundo apenas de débito\n",
        "def balanco(nome):\n",
        "  debito_trans = df_registro_trans[(df_registro_trans['nome_para'] == user) & ((df_registro_trans['status'] == 'e') | (df_registro_trans['status'] == 'p'))]\n",
        "  credito_trans = df_registro_trans[(df_registro_trans['nome_de'] == user) & ((df_registro_trans['status'] == 'e') | (df_registro_trans['status'] == 'p'))]\n",
        "  bal = np.array(credito_trans['valor_reais']).sum() - np.array(debito_trans['valor_reais']).sum()\n",
        "  return print(f'\\nO usuário {nome.upper()} possui um balanço financeiro de R${bal} reais.') \n",
        "\n",
        "def exibir_menu():\n",
        "  return print('-'*12,'MENU PRINCIPAL','-'*12,\n",
        "'\\n\\n---> ESCOLHA UMA DAS OPÇÕES ABAIXO <---',\n",
        "'''\\n[1] Cadastrar Empréstimo ou Pagamento\n",
        "[2] Exibir extrato\n",
        "[3] Exibir apenas extrato de empréstimo\n",
        "[4] Exibir apenas extrato de pagamento\n",
        "[5] Exibir seu balanço\n",
        "[6] Sair ''')\n"
      ],
      "execution_count": null,
      "outputs": []
    },
    {
      "cell_type": "markdown",
      "metadata": {
        "id": "eduLNHyBDsxl"
      },
      "source": [
        "###**5. Usuário em uso**\n",
        "Input para validar o usuário que está utilizando o programa."
      ]
    },
    {
      "cell_type": "code",
      "metadata": {
        "colab": {
          "base_uri": "https://localhost:8080/"
        },
        "id": "AWSvSWVWnpSP",
        "outputId": "078e3629-8ed8-4f37-d370-c832e60b76f6"
      },
      "source": [
        "#identificar o usuário que está em uso\n",
        "user = input('Digite seu nome de usuário: ')\n",
        "while user not in cadastro['nome']:\n",
        "  print('ATENÇÃO ERRO. Usuário inválido.')\n",
        "  user = input('\\nDigite seu nome de usuário: ')"
      ],
      "execution_count": null,
      "outputs": [
        {
          "output_type": "stream",
          "text": [
            "Digite seu nome de usuário: lucas\n"
          ],
          "name": "stdout"
        }
      ]
    },
    {
      "cell_type": "markdown",
      "metadata": {
        "id": "BUpRdHXNDeUK"
      },
      "source": [
        "###**6. Criando arquivo .csv onde serão armazenados os registros de todas as transações**\n",
        "Será criado um arquivo externo .csv para armazenar os registros de todas as transações entre os usuários. Nesse primeiro momento o arquivo estará vazio (sem registros), apenas com a primeira linha escrita que representa o cabeçalho ou o nome das colunas."
      ]
    },
    {
      "cell_type": "code",
      "metadata": {
        "id": "Jd3fzq8Jsx9B"
      },
      "source": [
        "##Criando o arquivo externo .csv onde serão armazenados os registros de todas as transações entre os usuários\n",
        "registro_transacoes_csv = open('registro_transacoes_1.csv', 'x')\n",
        "csv_writer_transacoes = csv.writer(registro_transacoes_csv)\n",
        "csv_writer_transacoes.writerow(['cod_trans', 'nome_de', 'nome_para', 'valor_reais', 'status', 'data'])\n",
        "registro_transacoes_csv.close()"
      ],
      "execution_count": null,
      "outputs": []
    },
    {
      "cell_type": "markdown",
      "metadata": {
        "id": "x6pZuGeGYciP"
      },
      "source": [
        "###**7. Cadastro de todas as transações entre os usuários**\n",
        "7.1. Foi criado um dicionário onde serão armazenados todos dos registros (código de transação, nome do usuário que emprestou/pagou, nome do usuário que recebeu o empréstimo/pagamento, o valor, o staus(se empréstimo ou pagamento) e a data que ocorreu o registro;\n",
        "\n",
        "7.2. Caso o usuário optasse pela opção 1 do Menu Principal, ele poderia realizar o registro de empréstimo ou pagamento. Nesse momento, todos os registros também foram registrados no arquivo externo .csv (registro_transacoes_1.csv) criado na etapa 6 desse notebook;\n",
        "\n",
        "7.3. Caso o usuário optasse pela opção 2 do Menu Principal, ele poderia visualizar o seu extrato individual, contendo todas as transações e o extrato resumido do mesmo;\n",
        "\n",
        "7.4. Caso o usuário optasse pela opção 3 do Menu Principal, ele poderia visualizar o seu extrato individual de empréstimo, contendo todas as transações de empréstimo (seja oferecendo ou recebendo o empréstimo) e o extrato resumido do mesmo;\n",
        "\n",
        "7.5. Caso o usuário optasse pela opção 4 do Menu Principal, ele poderia visualizar o seu extrato individual de pagamento, contendo todas as transações de pagamento (seja realizando ou recebendo o pagamento) e o extrato resumido do mesmo;\n",
        "\n",
        "7.6. Caso o usuário optasse pela opção 5 do Menu Principal, ele poderia visualizar o seu balanço individual geral, ou seja, a diferença entre a soma de todos os créditos e a soma de todos os débitos;\n",
        "\n",
        "7.7. Caso o usuário optasse pela opção 6 do Menu Principal, ele tem sua sessão encerrada e outro usuário pode utilizar o programa. Caso, ao optar pela opção 6 do menu, o usuário digitar \"sair\" no campo de inserir o nome de usuário, o código deixa de rodar e o programa finaliza por completo."
      ]
    },
    {
      "cell_type": "code",
      "metadata": {
        "id": "hOmfkFPP7yTx"
      },
      "source": [
        "#inserindo registros no dicionário registro_trans\n",
        "#criando um dataframe para exibir os registros em formato de tabela\n",
        "#adicionando registros das transações ao arquivo .csv\n",
        "#-------------------------------------------------------------------------------\n",
        "#Dicionário para armazenar os registros de todas as transações entre os usuários\n",
        "registro_trans = {'id_trans':[],\n",
        "                  'nome_de':[],\n",
        "                  'nome_para':[],\n",
        "                  'valor_reais':[],\n",
        "                  'status':[],\n",
        "                  'data':[]}\n",
        "#-------------------------------------------------------------------------------\n",
        "\n",
        "#-------------------------------------------\n",
        "#tuplas utilizadas para validações de input\n",
        "menu = ('1','2','3', '4', '5', '6', '7')\n",
        "opcoes = ('e', 'p')\n",
        "fim_reg_trans = ('s', 'n')\n",
        "#-------------------------------------------\n",
        "nova_trans = 's'\n",
        "cod = 0\n",
        "\n",
        "#while utilizado para executar as funcinalidades do programa.\n",
        "#Enquanto o usuário estiver constando no dicionário de cadastro, o programa...\n",
        "#...continuará funcionando\n",
        "while user in cadastro['nome']:\n",
        "  print('')\n",
        "  exibir_menu()\n",
        "#-------------------------------------------------------------------------------\n",
        "#validação do input do menu\n",
        "  acao_menu = input('\\nDigite a opção do MENU que você deseja: \\n').strip()\n",
        "  while acao_menu.isnumeric() == False:\n",
        "    print('ATENÇÃO. Digite apenas um dos números das opções do Menu Principal.')\n",
        "    acao_menu = input('\\nDigite a opção do MENU que você deseja: \\n').strip()\n",
        "    while acao_menu not in menu:\n",
        "      print('OPÇÃO INVÁLIDA. Escolha uma das opções do menu principal.')\n",
        "      acao_menu = input('\\nDigite a opção do MENU que você deseja: ').strip()\n",
        "#-------------------------------------------------------------------------------\n",
        "\n",
        "#-------------------------------------------------------------------------------\n",
        "#opção 1 do menu (registro de empréstimos e pagamentos)\n",
        "  if acao_menu == '1':\n",
        "    registro_transacoes_csv = open('registro_transacoes_1.csv', 'a')\n",
        "    csv_writer_transacoes = csv.writer(registro_transacoes_csv)\n",
        "    print('\\n','-'*10,'REGISTRO DE TRANSAÇÕES','-'*10,'\\n')\n",
        "    print('\\n','-'*10,f'OLÁ {user}! SEJA BEM-VINDO!!','-'*10,'\\n')\n",
        "\n",
        "#while utilizado para continuar cadastrando caso o usuário responda 's'\n",
        "    while nova_trans != 'n':\n",
        "      data = date.today().strftime(\"%d/%m/%y\")\n",
        "      registro_trans['data'].append(data)\n",
        "      cod = cod\n",
        "      registro_trans['id_trans'].append(cod)\n",
        "      cod += 1\n",
        "      status = input(\"Digite 'e' para receber um empréstimo ou 'p' para efetuar um pagamento: [e|p] \")\n",
        "\n",
        "#while utilizado para validação do input para o status do registro da transação\n",
        "      while status not in opcoes:\n",
        "        print(\"Digite 'e' para opção EMPRÉSTIMO ou 'p' para opção PAGAMENTO.\")\n",
        "        status = input(\"Digite 'e' para receber um empréstimo ou 'p' para efetuar um pagamento: [e|p] \")\n",
        "        registro_trans['status'].append(status)\n",
        "      if status == 'e':\n",
        "        registro_trans['status'].append(status)\n",
        "        credor = input(\"Nome da pessoa que irá fornecer o empréstimo: \")\n",
        "\n",
        "#while utilizado para validação do input para o nome de quem está emprestando\n",
        "        while credor not in cadastro['nome']:\n",
        "          print(\"ATENÇÃO. Usuário Inválido. Digite um usuário cadastrado.\")\n",
        "          credor = input(\"\\nNome da pessoa que irá fornecer o empréstimo: \")\n",
        "          registro_trans['nome_de'].append(credor)\n",
        "        if credor in cadastro['nome']:\n",
        "          credor = credor\n",
        "          registro_trans['nome_de'].append(credor)\n",
        "        beneficiado = user\n",
        "        registro_trans['nome_para'].append(beneficiado)\n",
        "        valor = float(input(\"Digite o valor do empréstimo: \"))\n",
        "        registro_trans['valor_reais'].append(valor)\n",
        "\n",
        "      elif status == 'p':\n",
        "        registro_trans['status'].append(status)\n",
        "        credor = user\n",
        "        registro_trans['nome_de'].append(credor)\n",
        "        beneficiado = input(\"Digite o nome da pessoa que receberá o valor do pagamento: \")\n",
        "\n",
        "#while utilizado para validação de input para o nome do usuário que está recebendo pagamento\n",
        "        while beneficiado not in cadastro['nome']:\n",
        "          print(\"ATENÇÃO. Usuário Inválido. Digite um usuário cadastrado.\")\n",
        "          beneficiado = input(\"\\nDigite o nome da pessoa que receberá o valor do pagamento: \")\n",
        "        if beneficiado in cadastro['nome']:\n",
        "          beneficiado = beneficiado\n",
        "          registro_trans['nome_para'].append(beneficiado)\n",
        "        valor = float(input(\"Digite o valor do pagamento: \"))\n",
        "        registro_trans['valor_reais'].append(valor)\n",
        "\n",
        "#escrevendo todos os registros cadastrados no arquivo externo .csv\n",
        "      csv_writer_transacoes.writerow([cod, credor, beneficiado, valor, status, data])\n",
        "\n",
        "#pergunta se o usuário deseja realizar novos registros\n",
        "#caso não, a opção 1 encerra e ele pode escolher outra opção do menu ou sair do programa  \n",
        "      nova_trans = input(\"\\nDeseja fazer um novo registro? [S|N]: \\n\").lower()\n",
        "      while nova_trans not in fim_reg_trans:\n",
        "        print(\"Você deve digitar 's' para continuar registrando ou 'n' para encerrar os registros.\")\n",
        "        nova_trans = input(\"\\nDeseja fazer um novo registro? [S|N]: \\n\").lower()\n",
        "\n",
        "#fechando o arquivo .csv\n",
        "    registro_transacoes_csv.close()\n",
        "\n",
        "    nova_trans = 's'\n",
        "\n",
        "#transformando o dicionário de registro das transações em objeto DataFrame.\n",
        "    df_registro_trans = pd.DataFrame(registro_trans)\n",
        "\n",
        "#criando um arquivo .csv a partir do objeto DataFrame.\n",
        "    df_registro_trans.to_csv('registro_transacoes_2.csv')\n",
        "\n",
        "#criando dois novos dataframes. O primeiro apenas com registros de empréstimos...\n",
        "#...e o segundo apenas com registros de pagamento.    \n",
        "    extrato_ind_emp = df_registro_trans[(df_registro_trans['status'] == 'e') & ((df_registro_trans['nome_para'] == user) |\n",
        "                                                                          (df_registro_trans['nome_de'] == user))]\n",
        "\n",
        "    extrato_ind_pag = df_registro_trans[(df_registro_trans['status'] == 'p') & ((df_registro_trans['nome_de'] == user) |\n",
        "                                                                          (df_registro_trans['nome_para'] == user))]\n",
        "#-------------------------------------------------------------------------------\n",
        "                                                                          \n",
        "  elif acao_menu == '2':\n",
        "    extrato_individual(user)\n",
        "    extrato_individual_res(user)\n",
        "\n",
        "  elif acao_menu == '3':\n",
        "    extrato_individual_emp(user)\n",
        "    extrato_individual_emp_res(user)\n",
        "\n",
        "  elif acao_menu == '4':\n",
        "    extrato_individual_pag(user)\n",
        "    extrato_individual_pag_res(user)\n",
        "  \n",
        "  elif acao_menu == '5':\n",
        "    balanco(user)\n",
        "\n",
        "  elif acao_menu == '6':\n",
        "    print('-'*12,'SESSÃO FINALIZADA','-'*12)\n",
        "    user = input('\\nDigite seu nome de usuário: ')\n",
        "    if user == 'sair':\n",
        "      break\n",
        "    while user not in cadastro['nome']:\n",
        "      print('ATENÇÃO ERRO. Usuário inválido.')\n",
        "      user = input('\\nDigite seu nome de usuário: ')"
      ],
      "execution_count": null,
      "outputs": []
    }
  ]
}